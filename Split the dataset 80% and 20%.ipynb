{
 "cells": [
  {
   "cell_type": "markdown",
   "id": "58e1edb6",
   "metadata": {},
   "source": [
    "# Load the DataSet"
   ]
  },
  {
   "cell_type": "code",
   "execution_count": 1,
   "id": "e5e6f379",
   "metadata": {},
   "outputs": [],
   "source": [
    "import pandas as pd\n",
    "from sklearn.model_selection import train_test_split\n",
    "# Load the dataset\n",
    "data = pd.read_csv('ATM_cash_flow_data.csv')\n",
    "# Split the dataset into features and target variable\n",
    "X = data.drop(columns=['Total amount Withdrawn'])\n",
    "y = data['Total amount Withdrawn']\n",
    "# Split the dataset into training and testing sets (80% training, 20% testing)\n",
    "train_data, test_data, train_target, test_target = train_test_split(X, y, test_size=0.2, random_state=42)\n",
    "# Combine features and target variable for training and testing sets\n",
    "train_set = pd.concat([train_data, train_target], axis=1)\n",
    "test_set = pd.concat([test_data, test_target], axis=1)\n",
    "# Save the separated datasets into CSV files\n",
    "train_set.to_csv('ATM_cash_flow_data_80%.csv', index=False)\n",
    "test_set.to_csv('ATM_cash_flow_data_20%.csv', index=False)"
   ]
  },
  {
   "cell_type": "code",
   "execution_count": null,
   "id": "fe30cbeb",
   "metadata": {},
   "outputs": [],
   "source": []
  }
 ],
 "metadata": {
  "kernelspec": {
   "display_name": "Python 3 (ipykernel)",
   "language": "python",
   "name": "python3"
  },
  "language_info": {
   "codemirror_mode": {
    "name": "ipython",
    "version": 3
   },
   "file_extension": ".py",
   "mimetype": "text/x-python",
   "name": "python",
   "nbconvert_exporter": "python",
   "pygments_lexer": "ipython3",
   "version": "3.11.5"
  }
 },
 "nbformat": 4,
 "nbformat_minor": 5
}
